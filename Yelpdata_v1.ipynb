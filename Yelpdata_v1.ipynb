{
 "cells": [
  {
   "cell_type": "markdown",
   "metadata": {},
   "source": [
    "# Yelp - analyse restaurant networks, user reviews and ratings and plot user-business networks. Derive sentimental score from the reviews and provide lead user experience"
   ]
  },
  {
   "cell_type": "markdown",
   "metadata": {},
   "source": [
    "## Why Yelp Dataset?\n",
    "\n",
    "Yelp users give ratings and write reviews about businesses and services on Yelp. These reviews and ratings help other Yelp users to evaluate a business or a service and make a choice. Ratings are not only useful to convey the overall experience, they also convey the context which led a reviewer to that experience. \n",
    "\n",
    "Yelp published more than 4.5 million crowd-sourced reviews. As of 2016 has 135 million monthly visitors and 95 million reviews.User community active in major metropolitan areas in US and Europe. Has pages for individual locations e.g. restaurants or schools. Users can submit review on products or services and a rating of 1-5 *\n",
    "\n",
    "Dataset we have chosen is of ~3GB. We have reduced the dataset by randomly selecting 1/10th Datapoints.\n",
    "\n",
    "Using this data objective is to: \n",
    "* analyse restaurant-user network\n",
    "* derive the sentimental score using NLP and then combine star ratings with sentimental score to derive a new rating system:\n",
    "    * Sentiment score/business\n",
    "    * New experience\n",
    "* analyse how much this new rating differs from the stars rating as provided by users\n",
    "* early birds and average score for every business\n",
    "    * Reducing dataset\n",
    "    * degree distribution/analysis\n",
    "* look at trends to identify \n",
    "    * the highest score for restaurant and \n",
    "    * the highest evolution for a category\n",
    "* provide a personalized experience to users by sharing information on what other restaurants could suit their cuisine expectations, taste and experience\n"
   ]
  },
  {
   "cell_type": "markdown",
   "metadata": {},
   "source": [
    "## Dataset Investigation -"
   ]
  },
  {
   "cell_type": "code",
   "execution_count": 1,
   "metadata": {
    "collapsed": false
   },
   "outputs": [],
   "source": [
    "# Including the libraries required for data analysis\n",
    "%matplotlib inline\n",
    "from collections import Counter\n",
    "import json\n",
    "import pandas as pd\n",
    "import networkx as nx\n",
    "import matplotlib.pyplot as plt\n",
    "import numpy as np\n",
    "import itertools\n",
    "import random"
   ]
  },
  {
   "cell_type": "markdown",
   "metadata": {},
   "source": [
    "As part of analysis a subset of the overall dataset which is for Pennslyvania (PA) state has been considered. However, the approach that will be followed follow through out this project could be applied to the entire dataset and similar analysis could be performed."
   ]
  },
  {
   "cell_type": "code",
   "execution_count": 3,
   "metadata": {
    "collapsed": true
   },
   "outputs": [],
   "source": [
    "#Path for business and review datasets for Pennsylvania (PA) state\n",
    "file_PA_business = 'Data_State/PA/business.json'\n",
    "file_PA_review = 'Data_State/PA/review.json'"
   ]
  },
  {
   "cell_type": "code",
   "execution_count": 4,
   "metadata": {
    "collapsed": true
   },
   "outputs": [],
   "source": [
    "##Creating a dataframe for the business file\n",
    "df_PA_bus = pd.read_json(file_PA_business)\n",
    "\n",
    "#Review file can't be loaded by read_json, hence the below method is used instead.\n",
    "\n",
    "with open(file_PA_review) as f:\n",
    "    data = json.load(f)\n",
    "df_PA_re = pd.DataFrame(data)"
   ]
  },
  {
   "cell_type": "code",
   "execution_count": 46,
   "metadata": {
    "collapsed": false
   },
   "outputs": [
    {
     "data": {
      "text/html": [
       "<div>\n",
       "<table border=\"1\" class=\"dataframe\">\n",
       "  <thead>\n",
       "    <tr style=\"text-align: right;\">\n",
       "      <th></th>\n",
       "      <th>attributes</th>\n",
       "      <th>business_id</th>\n",
       "      <th>categories</th>\n",
       "      <th>city</th>\n",
       "      <th>full_address</th>\n",
       "      <th>hours</th>\n",
       "      <th>latitude</th>\n",
       "      <th>longitude</th>\n",
       "      <th>name</th>\n",
       "      <th>neighborhoods</th>\n",
       "      <th>open</th>\n",
       "      <th>review_count</th>\n",
       "      <th>stars</th>\n",
       "      <th>state</th>\n",
       "      <th>type</th>\n",
       "    </tr>\n",
       "  </thead>\n",
       "  <tbody>\n",
       "    <tr>\n",
       "      <th>0</th>\n",
       "      <td>{u'Take-out': True, u'Drive-Thru': False, u'Go...</td>\n",
       "      <td>5UmKMjUEUNdYWqANhGckJw</td>\n",
       "      <td>[Fast Food, Restaurants]</td>\n",
       "      <td>Dravosburg</td>\n",
       "      <td>4734 Lebanon Church Rd\\nDravosburg, PA 15034</td>\n",
       "      <td>{u'Thursday': {u'close': u'21:00', u'open': u'...</td>\n",
       "      <td>40.354327</td>\n",
       "      <td>-79.900706</td>\n",
       "      <td>Mr Hoagie</td>\n",
       "      <td>[]</td>\n",
       "      <td>True</td>\n",
       "      <td>7</td>\n",
       "      <td>3.5</td>\n",
       "      <td>PA</td>\n",
       "      <td>business</td>\n",
       "    </tr>\n",
       "  </tbody>\n",
       "</table>\n",
       "</div>"
      ],
      "text/plain": [
       "                                          attributes             business_id  \\\n",
       "0  {u'Take-out': True, u'Drive-Thru': False, u'Go...  5UmKMjUEUNdYWqANhGckJw   \n",
       "\n",
       "                 categories        city  \\\n",
       "0  [Fast Food, Restaurants]  Dravosburg   \n",
       "\n",
       "                                   full_address  \\\n",
       "0  4734 Lebanon Church Rd\\nDravosburg, PA 15034   \n",
       "\n",
       "                                               hours   latitude  longitude  \\\n",
       "0  {u'Thursday': {u'close': u'21:00', u'open': u'...  40.354327 -79.900706   \n",
       "\n",
       "        name neighborhoods  open  review_count  stars state      type  \n",
       "0  Mr Hoagie            []  True             7    3.5    PA  business  "
      ]
     },
     "execution_count": 46,
     "metadata": {},
     "output_type": "execute_result"
    }
   ],
   "source": [
    "#Printing a preview of the business file attributes\n",
    "df_PA_bus.head(1)"
   ]
  },
  {
   "cell_type": "code",
   "execution_count": 36,
   "metadata": {
    "collapsed": false
   },
   "outputs": [
    {
     "name": "stdout",
     "output_type": "stream",
     "text": [
      "(4086, 15)\n"
     ]
    }
   ],
   "source": [
    "#Printing the shape size of the dataframe. This provides the dimension for the business dataframe.\n",
    "print(df_PA_bus.shape)"
   ]
  },
  {
   "cell_type": "code",
   "execution_count": 37,
   "metadata": {
    "collapsed": false
   },
   "outputs": [
    {
     "data": {
      "text/html": [
       "<div>\n",
       "<table border=\"1\" class=\"dataframe\">\n",
       "  <thead>\n",
       "    <tr style=\"text-align: right;\">\n",
       "      <th></th>\n",
       "      <th>business_id</th>\n",
       "      <th>date</th>\n",
       "      <th>review_id</th>\n",
       "      <th>sentiment</th>\n",
       "      <th>stars</th>\n",
       "      <th>text</th>\n",
       "      <th>type</th>\n",
       "      <th>user_id</th>\n",
       "      <th>votes</th>\n",
       "    </tr>\n",
       "  </thead>\n",
       "  <tbody>\n",
       "    <tr>\n",
       "      <th>0</th>\n",
       "      <td>5UmKMjUEUNdYWqANhGckJw</td>\n",
       "      <td>2012-08-01</td>\n",
       "      <td>Ya85v4eqdd6k9Od8HbQjyA</td>\n",
       "      <td>4.991</td>\n",
       "      <td>4</td>\n",
       "      <td>Mr Hoagie is an institution. Walking in, it do...</td>\n",
       "      <td>review</td>\n",
       "      <td>PUFPaY9KxDAcGqfsorJp3Q</td>\n",
       "      <td>{u'funny': 0, u'useful': 0, u'cool': 0}</td>\n",
       "    </tr>\n",
       "  </tbody>\n",
       "</table>\n",
       "</div>"
      ],
      "text/plain": [
       "              business_id        date               review_id  sentiment  \\\n",
       "0  5UmKMjUEUNdYWqANhGckJw  2012-08-01  Ya85v4eqdd6k9Od8HbQjyA      4.991   \n",
       "\n",
       "   stars                                               text    type  \\\n",
       "0      4  Mr Hoagie is an institution. Walking in, it do...  review   \n",
       "\n",
       "                  user_id                                    votes  \n",
       "0  PUFPaY9KxDAcGqfsorJp3Q  {u'funny': 0, u'useful': 0, u'cool': 0}  "
      ]
     },
     "execution_count": 37,
     "metadata": {},
     "output_type": "execute_result"
    }
   ],
   "source": [
    "#Printing a preview of the review file attributes.\n",
    "df_PA_re.head(1)"
   ]
  },
  {
   "cell_type": "code",
   "execution_count": 30,
   "metadata": {
    "collapsed": false
   },
   "outputs": [
    {
     "name": "stdout",
     "output_type": "stream",
     "text": [
      "(111542, 9)\n"
     ]
    }
   ],
   "source": [
    "#Printing the shape size of the dataframe. This provides the dimension for the reviews dataframe.\n",
    "print(df_PA_re.shape)"
   ]
  },
  {
   "cell_type": "code",
   "execution_count": 5,
   "metadata": {
    "collapsed": false
   },
   "outputs": [
    {
     "name": "stdout",
     "output_type": "stream",
     "text": [
      "Business name \t\t\tHits\n",
      "\n",
      "Meat & Potatoes \t\t1096\n",
      "Primanti Bros. \t\t\t836\n",
      "Gaucho Parrilla Argentina \t826\n",
      "Church Brew Works \t\t652\n",
      "Fat Heads Saloon \t\t505\n",
      "Primanti Bros. \t\t\t425\n",
      "Sienna Mercato \t\t\t425\n",
      "Point Brugge Café \t\t420\n"
     ]
    }
   ],
   "source": [
    "#Creating a list that contains both business id and name in a zip. Extracting the business id and name for later.\n",
    "business_id_vs_name = []\n",
    "for row in df_PA_bus.itertuples():\n",
    "    business_id_vs_name.append((row[2],row[9]))\n",
    "\n",
    "#Creating a list that contains every business hit in the review file. \n",
    "#Extracting all reviews from reviews frame for the business id\n",
    "business_hit = []\n",
    "for business in df_PA_re['business_id']:\n",
    "    business_hit.append(business)\n",
    "\n",
    "#Using Counter to count the frequency of a business in business_hit.\n",
    "\n",
    "count_business_hit = Counter(business_hit)\n",
    "print 'Business name','\\t\\t\\t','Hits\\n'\n",
    "for business in count_business_hit.most_common(10):\n",
    "    for pair in business_id_vs_name:\n",
    "        if business[0] == pair[0]:\n",
    "            business_name = pair[1]\n",
    "    if len(business_name) > 20:\n",
    "        print business_name,'\\t', business[1]\n",
    "    elif len(business_name) > 14:\n",
    "        print business_name,'\\t\\t', business[1]\n",
    "    elif len(business_name) > 10:\n",
    "        print business_name,'\\t\\t\\t', business[1]"
   ]
  },
  {
   "cell_type": "code",
   "execution_count": 6,
   "metadata": {
    "collapsed": false
   },
   "outputs": [
    {
     "name": "stdout",
     "output_type": "stream",
     "text": [
      "User_id \t\t\tHits\n",
      "\n",
      "nEYPahVwXGD2Pjvgkm7QqQ \t\t610\n",
      "iTmWHtltCtk0Gm55AOxrUA \t\t461\n",
      "WzaaorVCmUTQvu4mScunNg \t\t385\n",
      "9cCTmiJ7hz35rHIdr8n9kA \t\t377\n",
      "9OZH1Ecw-qUkCW5MS0NefA \t\t372\n",
      "UD7Y1CqfY6mDmRwIuCf6nA \t\t366\n",
      "J_q8jN623uew8ZzMChXBCA \t\t346\n",
      "_vS9qNQvx8wVUOIkj4qfAg \t\t345\n",
      "So32N7bSbUd1RwhFtI6jTQ \t\t321\n",
      "RSExP0-Boucr4QyIEzZi0A \t\t282\n"
     ]
    }
   ],
   "source": [
    "#Creating a list that contains every user hit in the review file. Extracting user id from reviews Dataframe.\n",
    "user_hit = []\n",
    "for user in df_PA_re['user_id']:\n",
    "    user_hit.append(user)\n",
    "\n",
    "#Using Counter to count the frequency of a user in user_hit\n",
    "\n",
    "count_user_hit = Counter(user_hit)\n",
    "print 'User_id','\\t\\t\\t','Hits\\n'\n",
    "for user in count_user_hit.most_common(10):\n",
    "    print user[0],'\\t\\t',user[1]"
   ]
  },
  {
   "cell_type": "code",
   "execution_count": 39,
   "metadata": {
    "collapsed": false
   },
   "outputs": [
    {
     "data": {
      "image/png": "[encoded data removed]",
      "text/plain": [
       "<matplotlib.figure.Figure at 0x10b966250>"
      ]
     },
     "metadata": {},
     "output_type": "display_data"
    }
   ],
   "source": [
    "#Show the stars distribution. Using the stars provided in reviews and generating its frequency plot.\n",
    "# Results show that 5 stars have the highest frequency and 1 star has the lowest frequency which is interesting.\n",
    "bins=np.arange(0,5+2,1)\n",
    "plt.figure(figsize=(15,5))\n",
    "plt.hist(df_PA_re['stars'],bins=bins,align='left')\n",
    "plt.xlabel('Stars')\n",
    "plt.ylabel('Frequency')\n",
    "plt.title('Distribution of stars')\n",
    "plt.show()"
   ]
  },
  {
   "cell_type": "markdown",
   "metadata": {},
   "source": [
    "### Plotting the Degree Distribution for Business - Frequency of number of reviews received for business"
   ]
  },
  {
   "cell_type": "code",
   "execution_count": 40,
   "metadata": {
    "collapsed": false
   },
   "outputs": [
    {
     "data": {
      "image/png": "[encoded data removed]",
      "text/plain": [
       "<matplotlib.figure.Figure at 0x10b966590>"
      ]
     },
     "metadata": {},
     "output_type": "display_data"
    }
   ],
   "source": [
    "#sort count_business_hit based on value.\n",
    "sorted_count_business_hit = sorted(count_business_hit.items(), key=lambda x: x[1], reverse=True)\n",
    "\n",
    "business_degree = []\n",
    "for pair in sorted_count_business_hit:\n",
    "    business_degree.append(pair[1])\n",
    "\n",
    "plt.figure(figsize=(15,10))\n",
    "#Degree distribution\n",
    "plt.subplot(2,1,1)\n",
    "n = max(business_degree)\n",
    "bins = np.arange(min(business_degree),n+2,1)\n",
    "plt.hist(business_degree,bins=bins,align='left')\n",
    "plt.title('Degree distribution of business')\n",
    "plt.xlabel('Number of reviews/degrees')\n",
    "plt.ylabel('Frequency')\n",
    "\n",
    "#Degree distribution - zoomed\n",
    "plt.subplot(2,1,2)\n",
    "n1 = max(business_degree[200:])\n",
    "bins = np.arange(min(business_degree[200:]),max(business_degree[200:])+2,1)\n",
    "plt.hist(business_degree[200:],bins=bins,align='left')\n",
    "plt.title('Degree distribution of business - zoomed')\n",
    "plt.xlabel('Number of reviews/degrees')\n",
    "plt.ylabel('Frequency')\n",
    "plt.tight_layout()"
   ]
  },
  {
   "cell_type": "markdown",
   "metadata": {},
   "source": [
    "From the above plot for business, it is interesting to see that there are very few businesses (around 100) that have more than 1 review. Majority of the other businesses have 1 or no reviews."
   ]
  },
  {
   "cell_type": "markdown",
   "metadata": {},
   "source": [
    "### Plotting the Degree Distribution for User - Frequency of number of reviews"
   ]
  },
  {
   "cell_type": "code",
   "execution_count": 16,
   "metadata": {
    "collapsed": false
   },
   "outputs": [
    {
     "data": {
      "image/png": "[encoded data removed]",
      "text/plain": [
       "<matplotlib.figure.Figure at 0x161178a50>"
      ]
     },
     "metadata": {},
     "output_type": "display_data"
    }
   ],
   "source": [
    "sorted_count_user_hit = sorted(count_user_hit.items(), key=lambda x: x[1], reverse=True)\n",
    "\n",
    "user_degree = []\n",
    "for pair in sorted_count_user_hit:\n",
    "    user_degree.append(pair[1])\n",
    "\n",
    "plt.figure(figsize=(15,10))\n",
    "plt.subplot(2,1,1)\n",
    "n = max(user_degree)\n",
    "bins = np.arange(min(user_degree),n+2,1)\n",
    "plt.hist(user_degree,bins=bins,align='left')\n",
    "plt.title('Degree distribution of user')\n",
    "plt.xlabel('Number of reviews/degrees')\n",
    "plt.ylabel('Frequency')\n",
    "\n",
    "plt.subplot(2,1,2)\n",
    "n1 = max(user_degree[200:])\n",
    "bins = np.arange(min(user_degree[200:]),max(user_degree[200:])+2,1)\n",
    "plt.hist(user_degree[200:],bins=bins,align='left')\n",
    "plt.title('Degree distribution of user - zoomed')\n",
    "plt.xlabel('Number of reviews/degrees')\n",
    "plt.ylabel('Frequency')\n",
    "plt.tight_layout()"
   ]
  },
  {
   "cell_type": "markdown",
   "metadata": {},
   "source": [
    "From the above plot for user reviews, it is interesting to see that there are few reviewers who have posted multiple reviews. We have maximum reviewers with 1 or less than 10 reviews."
   ]
  },
  {
   "cell_type": "markdown",
   "metadata": {},
   "source": [
    "## Tools, theory and analysis"
   ]
  },
  {
   "cell_type": "markdown",
   "metadata": {
    "collapsed": true
   },
   "source": [
    "LabMT wordlist has been used to perform Sentimental Analysis for the reviews and generating a rating for each review. \n",
    "\n",
    "The new rating is a function of the star rating provided to restaurant and the sentimental score for the review provided by the same user to the same restaurant\n",
    "\n",
    "In the journey to find a corelation it was interesting to see that a star rating of 4 has a strong corelation with an equivalent sentimental score. However, for a star rating of 5, its equivalent sentimental score is low indicating that the user gave a high rating but his reviews were not equally positive for the restaurant.\n",
    "\n",
    "For Network analysis networkx library has been used to built an weighted network connecting users with restaurants through the reviews shared by users.\n",
    "\n",
    "A weighted network connecting users to restaurants based on the sentimental score of the reviews was created and a weight was assigned to each link.  Based on this network , goal was to identify restaurants that have a higher weighted link but are not rated by the user and sharing this info with the user as lead information e.g. - \"You may be interested in these restaurants\"."
   ]
  },
  {
   "cell_type": "markdown",
   "metadata": {},
   "source": [
    "### Sentimental score\n",
    "\n",
    "A review is mainly composed of a number of stars and a text attached, and the global score of a restarant is based only on the average number of stars. But some people give 5\\* more easily than other, and only the text can give a real insight of the actual feeling of a user for a restaurant.\n",
    "\n",
    "One idea then is to build a function that analyses the global sentiment of a text review. One easy way to do so is to extract the words associated with a sentiment, positive and negative, and return the average \"sentimental value\", or sentimental score as we will call it.\n",
    "\n",
    "As stated before, we will use the labMT wordlist as our sentiment reference."
   ]
  },
  {
   "cell_type": "code",
   "execution_count": 2,
   "metadata": {
    "collapsed": false
   },
   "outputs": [
    {
     "name": "stdout",
     "output_type": "stream",
     "text": [
      "10222\n"
     ]
    }
   ],
   "source": [
    "import csv\n",
    "\n",
    "#Open the wordlist and create a dict associated\n",
    "with open('labMT.txt','r') as fi:\n",
    "    #Get a dtict of the words and the sentiment value associated\n",
    "    labMT = csv.reader(fi, delimiter = '\\t')\n",
    "    labMT = {x[0]:x[2] for x in labMT}\n",
    "\n",
    "print len(labMT)"
   ]
  },
  {
   "cell_type": "code",
   "execution_count": 2,
   "metadata": {
    "collapsed": true
   },
   "outputs": [],
   "source": [
    "def Sentiment(tok):\n",
    "    \"\"\"Returns the average sentiment score of a given text\"\"\"\n",
    "    sentiment = 0    #Returned value\n",
    "    n = 0 #number of words with sentiment attached\n",
    "    for word in tok:\n",
    "        try:\n",
    "            #if the word is found in te list, append its value\n",
    "            sentiment += float(labMT[word])\n",
    "            n += 1\n",
    "        except:\n",
    "            pass    \n",
    "    try:\n",
    "        #If no word found (n=0), raise an error\n",
    "        return sentiment / n\n",
    "    except:\n",
    "        return float('nan') #No word with sentiment attached in the text"
   ]
  },
  {
   "cell_type": "markdown",
   "metadata": {
    "collapsed": true
   },
   "source": [
    "This gives typically scores around 4.5-5.5. Then we ran this function for every review of the dataset and added it as a value in the json file under the attribute \"sentiment\"."
   ]
  },
  {
   "cell_type": "code",
   "execution_count": 4,
   "metadata": {
    "collapsed": false
   },
   "outputs": [
    {
     "name": "stdout",
     "output_type": "stream",
     "text": [
      "111542\n"
     ]
    }
   ],
   "source": [
    "import json\n",
    "\n",
    "with open('./Data_State/PA/review.json') as fi:\n",
    "    data = json.load(fi)\n",
    "    \n",
    "print len(data)"
   ]
  },
  {
   "cell_type": "code",
   "execution_count": 11,
   "metadata": {
    "collapsed": false
   },
   "outputs": [
    {
     "name": "stdout",
     "output_type": "stream",
     "text": [
      "4.967 5\n",
      "Yes this place is a little out dated and not opened on the weekend. But other than that the staff is always pleasant and fast to make your order. Which is always spot on fresh veggies on their hoggies and other food. They also have daily specials and ice cream which is really good. I had a banana split they piled the toppings on. They win pennysaver awards ever years i see why.\n",
      "\n",
      "4.959 1\n",
      "I've never posted a yelp review before.  This meal was so horrible that I downloaded the yelp app just so I could warn others to stay away!  We ordered food from Capri since we were going to voodoo brewery.  We ordered a cheesesteak with no mayo and an Italian calzone since the person working there talked up the calzones.  We ended up with a cheesesteak heavy on the mayo and an Italian wedgie, which was just a folded up pizza full of mayo and onions.  No sign of Italian meat to be found.  No marinara sauce.  It was inedible.  We ended up walking to kfc instead.  \n",
      "\n",
      "I want to leave a zero star rating, but yelp won't let me.  So they get an undeserved star.\n"
     ]
    }
   ],
   "source": [
    "print data[2]['sentiment'], data[2]['stars']\n",
    "print data[2]['text']\n",
    "print\n",
    "print data[350]['sentiment'], data[350]['stars']\n",
    "print data[350]['text']"
   ]
  },
  {
   "cell_type": "markdown",
   "metadata": {},
   "source": [
    "As we can see, the sentimental score is quite well related to the actual text review, but the difference between two score is relatively small. We will analyse these variations now with basic stats on that attribute.\n",
    "\n",
    "One can also point that for these two examples, the stars gave a pretty good idea of the review, although with less nuances than the sentimental score. We will investigate if this trend is generalised.\n",
    "\n",
    "For this analysis, we will only keep the reviews with an actual score (not a NaN value), in order not to process the reviews in other languages or one-word reviews (they actually represent 20 reviews over the 111,000)."
   ]
  },
  {
   "cell_type": "code",
   "execution_count": 15,
   "metadata": {
    "collapsed": true
   },
   "outputs": [],
   "source": [
    "sentiment = []\n",
    "star = []\n",
    "\n",
    "for ii in data:\n",
    "    #Don't add the NaN values\n",
    "    if ii['sentiment'] == ii['sentiment']:\n",
    "        sentiment += [ii['sentiment']]\n",
    "        star += [ii['stars']]"
   ]
  },
  {
   "cell_type": "code",
   "execution_count": 16,
   "metadata": {
    "collapsed": false
   },
   "outputs": [
    {
     "data": {
      "image/png": "[encoded data removed]",
      "text/plain": [
       "<matplotlib.figure.Figure at 0x263f5e10>"
      ]
     },
     "metadata": {},
     "output_type": "display_data"
    }
   ],
   "source": [
    "import matplotlib.pyplot as plt\n",
    "%matplotlib inline\n",
    "\n",
    "\n",
    "plt.hist(sentiment, bins = 50)\n",
    "plt.xlabel(\"Sentimental score\")\n",
    "plt.ylabel(\"Number of reviews\")\n",
    "plt.show()"
   ]
  },
  {
   "cell_type": "code",
   "execution_count": 20,
   "metadata": {
    "collapsed": false
   },
   "outputs": [
    {
     "name": "stdout",
     "output_type": "stream",
     "text": [
      "Average sentimental score:  4.97175664602\n",
      "Standard deviation:  0.0221201249578\n"
     ]
    }
   ],
   "source": [
    "import numpy as np\n",
    "\n",
    "#Print the average and the std for the scores\n",
    "sentMean = np.mean(sentiment)\n",
    "sentStd = np.std(sentiment)\n",
    "\n",
    "print \"Average sentimental score: \", sentMean\n",
    "print \"Standard deviation: \", sentStd"
   ]
  },
  {
   "cell_type": "markdown",
   "metadata": {},
   "source": [
    "What we can see from this plot is that the sentimental score is fairly well distributed around the average value, and the variations are really small but still exists. So considering the standard deviation, the relatively small difference of score between the two examples above is logical.\n",
    "\n",
    "For a better vizualisation of the data, we will now use the normalized values of the sentimental score."
   ]
  },
  {
   "cell_type": "code",
   "execution_count": 21,
   "metadata": {
    "collapsed": false
   },
   "outputs": [],
   "source": [
    "starDictNorm = {}\n",
    "\n",
    "#Create a dictionnary of all normalized scores for reviews with a certain number of stars\n",
    "for i in set(star):\n",
    "    starDictNorm[i] = [((sentiment[x] - sentMean) / sentStd) for x in range(len(star)) if star[x] == i]"
   ]
  },
  {
   "cell_type": "code",
   "execution_count": 22,
   "metadata": {
    "collapsed": false
   },
   "outputs": [
    {
     "data": {
      "image/png": "[encoded data removed]",
      "text/plain": [
       "<matplotlib.figure.Figure at 0x18ac2a90>"
      ]
     },
     "metadata": {},
     "output_type": "display_data"
    }
   ],
   "source": [
    "#Boxplot to see the correlation between stars and scores\n",
    "plt.boxplot([starDictNorm[i] for i in starDictNorm.keys()],0,'')\n",
    "plt.xlabel('Stars')\n",
    "plt.ylabel('Normalized sentimental score')\n",
    "plt.show()"
   ]
  },
  {
   "cell_type": "markdown",
   "metadata": {
    "collapsed": true
   },
   "source": [
    "We can see from this boxplot that the sentimental score follows the general trend of the stars, but with a lot more of nuance. It has to be noticed that the outliers were not plotted since shorter reviews may have really strong scores compared to longer ones.\n",
    "\n",
    "However, it does not seem true for the 5\\* reviews. One of the explanations is that there are more 5\\* reviews than the other values. Another explanation can be that some people tend to give 5 stars anyways to not penalize the restaurant (since a 3\\* review can be percieved as a \"bad\" review) even after not having a good or perfect experience at the restaurant. \n",
    "\n",
    "Thus, the sentimental score seems to be a more nuanced and accurate evaluation of the user's experience. For the rest of the analysis, we will keep only this value to evaluate the actual score of a review and forget about the stars. Although, this is an approximation and it could be improved by taking into account the stars and maybe other parameters."
   ]
  },
  {
   "cell_type": "markdown",
   "metadata": {},
   "source": [
    "## New experience\n",
    "\n",
    "This section is about recommending new places to a user by creating a weighted network. The network will have every business as a node and each egde will increase in weight if it is between two business that a user like.\n",
    "\n",
    "Meaning that every user network with the business that they like are 'added' on top on the weighted network and thereby increasing the weight of the links inclueded in their network.\n",
    "\n",
    "After the weighted network is created, then we will create a function that gives a user the nodes with highest weighted edge that is a neighbour to his own network, those nodes which the user are most likely to enjoy."
   ]
  },
  {
   "cell_type": "code",
   "execution_count": 7,
   "metadata": {
    "collapsed": false
   },
   "outputs": [
    {
     "name": "stdout",
     "output_type": "stream",
     "text": [
      "32134 20452 130\n"
     ]
    }
   ],
   "source": [
    "#Finding all the unique users\n",
    "unique_user = set()\n",
    "for user in df_PA_re['user_id']:\n",
    "    unique_user.add(user)\n",
    "\n",
    "#making a dict where each user is the key and the value is a list containing the zips of business_id and given star.\n",
    "dict_user_experience = {}\n",
    "for row in df_PA_re.itertuples():\n",
    "    temp_list = set()\n",
    "    if row[8] in dict_user_experience:\n",
    "        if row[4] > 4.97:\n",
    "            temp_list = set(dict_user_experience[row[8]])\n",
    "            temp_list.add(row[1])\n",
    "            dict_user_experience[row[8]] = list(temp_list)\n",
    "    else:\n",
    "        if row[4] > 4.97:\n",
    "            dict_user_experience[row[8]] = [row[1]]\n",
    "\n",
    "            \n",
    "print len(unique_user),len(dict_user_experience.keys()), len(dict_user_experience['RSExP0-Boucr4QyIEzZi0A'])"
   ]
  },
  {
   "cell_type": "markdown",
   "metadata": {},
   "source": [
    "### Network"
   ]
  },
  {
   "cell_type": "code",
   "execution_count": 10,
   "metadata": {
    "collapsed": false
   },
   "outputs": [
    {
     "data": {
      "text/plain": [
       "625582"
      ]
     },
     "execution_count": 10,
     "metadata": {},
     "output_type": "execute_result"
    }
   ],
   "source": [
    "edge_list = []\n",
    "for user in dict_user_experience:\n",
    "    for pair in itertools.combinations(dict_user_experience[user],2):\n",
    "        edge_list.append(pair)\n",
    "len(edge_list)"
   ]
  },
  {
   "cell_type": "code",
   "execution_count": 11,
   "metadata": {
    "collapsed": false,
    "scrolled": true
   },
   "outputs": [
    {
     "name": "stdout",
     "output_type": "stream",
     "text": [
      "((u'bwu0cUZfksuu-uzTPrrl2A', u'Q4ULAiIE2qCA4RYplCTrUQ'), 28)\n",
      "((u'9ylfrWjdX6CltGs_Qcv7Ng', u'Q4ULAiIE2qCA4RYplCTrUQ'), 28)\n",
      "((u'ihUWFwY0r3ApW5aZ4Aqf9Q', u'rcCGdKxMPJk4lCzZZ1i_bA'), 25)\n",
      "((u'TRLMm_deLvlPNmGNqRxcow', u'Q4ULAiIE2qCA4RYplCTrUQ'), 25)\n",
      "((u'9SPwF-vRgtuHxciFxv5YLA', u'cjD2yGRhT5yaSj_KP55Ptw'), 25)\n",
      "((u'diAEN3I9fXcZgNFpA5vz4g', u'rcCGdKxMPJk4lCzZZ1i_bA'), 21)\n",
      "((u'ihUWFwY0r3ApW5aZ4Aqf9Q', u'RjavzMXChoFWdsIZnfs5YQ'), 21)\n",
      "((u'rfy_bJ5ad-gfVmMeqKtsyw', u'RhOTBt7ISr2rhXisSMLTSw'), 20)\n",
      "((u'UXlGymo9AduQcq-Q-H16og', u'rcCGdKxMPJk4lCzZZ1i_bA'), 20)\n",
      "((u'rfy_bJ5ad-gfVmMeqKtsyw', u'8zdeaK3PWDsr5Kq4UOuNSw'), 20)\n"
     ]
    }
   ],
   "source": [
    "#Using Counter to see the top 10 business that\n",
    "#have the strogest edge between them.\n",
    "count_edge_list = Counter(edge_list)\n",
    "for element in count_edge_list.most_common(10):\n",
    "    print element\n",
    "count_edge_list = list(count_edge_list.items())"
   ]
  },
  {
   "cell_type": "code",
   "execution_count": 12,
   "metadata": {
    "collapsed": true
   },
   "outputs": [],
   "source": [
    "#Creating the undirected network\n",
    "unG = nx.Graph()\n",
    "\n",
    "#Adding egdes based on the users' own network\n",
    "for element in count_edge_list:\n",
    "    unG.add_edge(element[0][0],element[0][1], weight=element[1])"
   ]
  },
  {
   "cell_type": "code",
   "execution_count": 13,
   "metadata": {
    "collapsed": false
   },
   "outputs": [
    {
     "name": "stdout",
     "output_type": "stream",
     "text": [
      "3654 455806 4086\n"
     ]
    }
   ],
   "source": [
    "#printing the network dimensions - nodes, edges and total businesses\n",
    "print len(unG.nodes()), len(unG.edges()), len(df_PA_bus)"
   ]
  },
  {
   "cell_type": "code",
   "execution_count": 14,
   "metadata": {
    "collapsed": false
   },
   "outputs": [
    {
     "data": {
      "text/plain": [
       "{'weight': 1}"
      ]
     },
     "execution_count": 14,
     "metadata": {},
     "output_type": "execute_result"
    }
   ],
   "source": [
    "#checking the weight for an edge\n",
    "unG.edges('bwu0cUZfksuu-uzTPrrl2A',data=True)[0][2]"
   ]
  },
  {
   "cell_type": "markdown",
   "metadata": {},
   "source": [
    "### Recommendation function"
   ]
  },
  {
   "cell_type": "code",
   "execution_count": 15,
   "metadata": {
    "collapsed": true
   },
   "outputs": [],
   "source": [
    "#Recommendation function which takes two inputs,\n",
    "#user_id and number of recommendations.\n",
    "def getRecommendation(user,n):\n",
    "    list_recommendation = []\n",
    "    for element in dict_user_experience[user]:\n",
    "        for hit in unG.edges(element,data=True):\n",
    "            if hit[1] not in dict_user_experience[user]:\n",
    "                list_recommendation.append([hit[1],hit[2]['weight']])\n",
    "    list_recommendation.sort(key=lambda tup: tup[1], reverse=True) #sort the list based on weight\n",
    "    #changes the business with the name of the \n",
    "    #business.\n",
    "    if len(list_recommendation) < n:\n",
    "        for i in xrange(len(list_recommendation)):\n",
    "            for row in df_PA_bus.itertuples():\n",
    "                if row[2] == list_recommendation[i][0]:\n",
    "                    list_recommendation[i][0] = row[9]\n",
    "        return list_recommendation\n",
    "    else:\n",
    "        for i in xrange(n):\n",
    "            for row in df_PA_bus.itertuples():\n",
    "                if row[2] == list_recommendation[i][0]:\n",
    "                    list_recommendation[i][0] = row[9]\n",
    "        return list_recommendation[:n]"
   ]
  },
  {
   "cell_type": "code",
   "execution_count": 16,
   "metadata": {
    "collapsed": false
   },
   "outputs": [
    {
     "name": "stdout",
     "output_type": "stream",
     "text": [
      "[u'Ibiza Tapas & Wine Bar', 6]\n",
      "[u'Seviche', 4]\n",
      "[u'Silk Elephant', 4]\n",
      "[u'Thai Place Restaurant', 3]\n",
      "[u'Soba', 3]\n"
     ]
    }
   ],
   "source": [
    "#Take a random user and print the top 5 recommendations\n",
    "for pair in getRecommendation(random.choice(tuple(unique_user)), 5):\n",
    "    print pair"
   ]
  },
  {
   "cell_type": "code",
   "execution_count": 1,
   "metadata": {
    "collapsed": false
   },
   "outputs": [
    {
     "name": "stdout",
     "output_type": "stream",
     "text": [
      "Once deleted, variables cannot be recovered. Proceed (y/[n])? y\n"
     ]
    }
   ],
   "source": [
    "%reset"
   ]
  },
  {
   "cell_type": "markdown",
   "metadata": {},
   "source": [
    "## Super users identification\n",
    "\n",
    "A final analysis of this dataset can help to identify super users, that is users that represent the best the whole Yelp user community. It can help Yelp to get better feedback from fewer people. \n",
    "\n",
    "So, we need to identify users that are close to the others, in other words the most central in the community by reviewing the same restaurants. Also, these users must be able to give the general feeling of the community for the restaurant.\n",
    "\n",
    "### Closeness centrality\n",
    "\n",
    "To do so, we will use the concept of closeness centrality in the graph, or closeness. This value represents the reciprocal of the sum of the distances between a given node (here, user), and the other nodes. The distance here will be the difference between its review and the average review for a restaurant, based on the sentimental score calculated above."
   ]
  },
  {
   "cell_type": "code",
   "execution_count": 19,
   "metadata": {
    "collapsed": false
   },
   "outputs": [
    {
     "name": "stdout",
     "output_type": "stream",
     "text": [
      "4086\n"
     ]
    }
   ],
   "source": [
    "import json\n",
    "\n",
    "#Extraction of the businesses\n",
    "with open('./Data_State/PA/business.json') as fi:\n",
    "    business = set([xx['business_id'] for xx in json.load(fi)])\n",
    "print len(business)   "
   ]
  },
  {
   "cell_type": "markdown",
   "metadata": {},
   "source": [
    "Now two dictionnaries are created: one for the users and their reviews, the other for the businesses and their average sentimental score."
   ]
  },
  {
   "cell_type": "code",
   "execution_count": 20,
   "metadata": {
    "collapsed": false
   },
   "outputs": [],
   "source": [
    "import numpy as np\n",
    "\n",
    "userDict = {}\n",
    "busDict = {}\n",
    "\n",
    "with open('./Data_State/PA/review.json') as fi:\n",
    "    review = [[xx['business_id'],xx['user_id'],xx['sentiment']] for xx in json.load(fi)]\n",
    "\n",
    "for r in review:\n",
    "    #List of the links and the scores\n",
    "    try:\n",
    "        userDict[r[1]] += [[r[0],r[2]]]\n",
    "    except:\n",
    "        userDict[r[1]] = [[r[0],r[2]]]\n",
    "    \n",
    "    #List of the sentiment scores\n",
    "    try:\n",
    "        busDict[r[0]] += [r[2]]\n",
    "    except:\n",
    "        busDict[r[0]] = [r[2]]\n",
    "        \n",
    "#Keep only the average score\n",
    "for bb in busDict.keys():\n",
    "    busDict[bb] = np.mean(busDict[bb])"
   ]
  },
  {
   "cell_type": "markdown",
   "metadata": {},
   "source": [
    "Now the network will be created, with for each edge an attribute \"difference\". This attribute represent the difference between this user's point of view and the general opinion for that business."
   ]
  },
  {
   "cell_type": "code",
   "execution_count": 21,
   "metadata": {
    "collapsed": false
   },
   "outputs": [],
   "source": [
    "import networkx as nx\n",
    "\n",
    "G = nx.Graph()\n",
    "i = 0\n",
    "for uu in userDict.keys():\n",
    "    i += 1\n",
    "    for ll in userDict[uu]:\n",
    "        #average score of the business\n",
    "        avScore = busDict[ll[0]]\n",
    "        #Don't add the links with no sentiment attached\n",
    "        if ll[1] == ll[1] and avScore == avScore:\n",
    "            G.add_edge(uu, ll[0], difference = abs(avScore - ll[1]))"
   ]
  },
  {
   "cell_type": "markdown",
   "metadata": {},
   "source": [
    "In order to get only active users (and also to shorten the computation time), we will consider that a super user has to have reviewed at least 10 restaurants. It already gives a large base of user."
   ]
  },
  {
   "cell_type": "code",
   "execution_count": 22,
   "metadata": {
    "collapsed": false
   },
   "outputs": [
    {
     "name": "stdout",
     "output_type": "stream",
     "text": [
      "Number of active users:  1781\n",
      "Total number of users:  32134\n"
     ]
    }
   ],
   "source": [
    "#Users with at least 10 reviews\n",
    "activeUser = [xx for xx in userDict.keys() if len(userDict[xx])>=10]\n",
    "\n",
    "print 'Number of active users: ', len(activeUser)\n",
    "print 'Total number of users: ', len(userDict.keys())"
   ]
  },
  {
   "cell_type": "markdown",
   "metadata": {},
   "source": [
    "Here is the actual computation of the closenss centrality for each node. This process is fairly long as we have a large number of users."
   ]
  },
  {
   "cell_type": "code",
   "execution_count": 23,
   "metadata": {
    "collapsed": false
   },
   "outputs": [
    {
     "name": "stdout",
     "output_type": "stream",
     "text": [
      "0.1\n",
      "0.2\n",
      "0.3\n",
      "0.4\n",
      "0.5\n",
      "0.6\n",
      "0.7\n",
      "0.8\n",
      "0.9\n",
      "1.0\n",
      "done\n"
     ]
    }
   ],
   "source": [
    "activeUserDict = {}\n",
    "i = 0\n",
    "\n",
    "for uu in activeUser:\n",
    "    activeUserDict[uu] =  nx.closeness_centrality(G, u=uu, distance = 'difference')\n",
    "    \n",
    "    #This is just to keep track of the progress\n",
    "    i += 1\n",
    "    if i % 178 == 0:\n",
    "        print round(i/float(len(activeUser)),2)\n",
    "        \n",
    "print 'done'"
   ]
  },
  {
   "cell_type": "code",
   "execution_count": 24,
   "metadata": {
    "collapsed": true
   },
   "outputs": [],
   "source": [
    "#Save the output\n",
    "with open('lead_users_output.txt','w') as out:\n",
    "    out.write(str(activeUserDict))"
   ]
  },
  {
   "cell_type": "code",
   "execution_count": 11,
   "metadata": {
    "collapsed": false
   },
   "outputs": [
    {
     "name": "stdout",
     "output_type": "stream",
     "text": [
      "Once deleted, variables cannot be recovered. Proceed (y/[n])? y\n"
     ]
    }
   ],
   "source": [
    "%reset"
   ]
  },
  {
   "cell_type": "markdown",
   "metadata": {},
   "source": [
    "### Results analysis\n",
    "\n",
    "As the analysis took quite some time and memory, we will reset the kernel and only use the values from the output text file."
   ]
  },
  {
   "cell_type": "code",
   "execution_count": 25,
   "metadata": {
    "collapsed": false
   },
   "outputs": [
    {
     "name": "stdout",
     "output_type": "stream",
     "text": [
      "1781\n"
     ]
    }
   ],
   "source": [
    "with open('lead_users_output.txt') as fi:\n",
    "    superUser = eval(fi.read())\n",
    "    \n",
    "print len(superUser)"
   ]
  },
  {
   "cell_type": "code",
   "execution_count": 26,
   "metadata": {
    "collapsed": false
   },
   "outputs": [
    {
     "data": {
      "image/png": "[encoded data removed]",
      "text/plain": [
       "<matplotlib.figure.Figure at 0x110b0e48>"
      ]
     },
     "metadata": {},
     "output_type": "display_data"
    }
   ],
   "source": [
    "import matplotlib.pyplot as plt\n",
    "%matplotlib inline\n",
    "\n",
    "plt.hist(superUser.values(), bins = 40)\n",
    "plt.title('Closeness centrality distribution')\n",
    "plt.xlabel('Closeness score')\n",
    "plt.ylabel('Number of users')\n",
    "plt.show()"
   ]
  },
  {
   "cell_type": "markdown",
   "metadata": {},
   "source": [
    "The histogram above shows the distribution of user considering the closeness centrality. Keep in mind that the higher the value is, the more central the user. The relatively abrupt decreasing in the end is only due to the small number of users with a lot of reviews.\n",
    "\n",
    "So Now we will only focus on users with a closeness higher than 65 which seems to be a fairly high score, and try to see if the closeness centrality is only related to the number of reviews or if we managed to actually find super users."
   ]
  },
  {
   "cell_type": "code",
   "execution_count": 30,
   "metadata": {
    "collapsed": false
   },
   "outputs": [
    {
     "name": "stdout",
     "output_type": "stream",
     "text": [
      "Number of super user 267\n"
     ]
    },
    {
     "data": {
      "image/png": "[encoded data removed]",
      "text/plain": [
       "<matplotlib.figure.Figure at 0x231e7080>"
      ]
     },
     "metadata": {},
     "output_type": "display_data"
    }
   ],
   "source": [
    "aaa = []\n",
    "for xx in superUser.keys():\n",
    "    if superUser[xx] > 65:\n",
    "        aaa+= [len(userDict[xx])]\n",
    "        \n",
    "print 'Number of super user', len(aaa)\n",
    "\n",
    "plt.hist(aaa, bins = 50)\n",
    "plt.title('Super user distribution on the number of reviews')\n",
    "plt.xlabel('Number of reviews')\n",
    "plt.ylabel('Number of super users')\n",
    "plt.show()"
   ]
  },
  {
   "cell_type": "code",
   "execution_count": 31,
   "metadata": {
    "collapsed": false
   },
   "outputs": [
    {
     "data": {
      "image/png": "[encoded data removed]",
      "text/plain": [
       "<matplotlib.figure.Figure at 0x16632eb8>"
      ]
     },
     "metadata": {},
     "output_type": "display_data"
    }
   ],
   "source": [
    "plt.hist(aaa, bins = 50,range = [10,60])\n",
    "plt.title('Super user distribution on the number of reviews')\n",
    "plt.xlabel('Number of reviews')\n",
    "plt.ylabel('Number of super users')\n",
    "plt.show()"
   ]
  },
  {
   "cell_type": "code",
   "execution_count": 32,
   "metadata": {
    "collapsed": false
   },
   "outputs": [
    {
     "data": {
      "image/png": "[encoded data removed]",
      "text/plain": [
       "<matplotlib.figure.Figure at 0x29b5a470>"
      ]
     },
     "metadata": {},
     "output_type": "display_data"
    }
   ],
   "source": [
    "aaa = []\n",
    "for xx in userDict.keys():\n",
    "    aaa+= [len(userDict[xx])]\n",
    "\n",
    "plt.hist(aaa, bins = 50, range=[10,60])\n",
    "plt.title('Regular user distribution on the number of reviews')\n",
    "plt.xlabel('Number of reviews')\n",
    "plt.ylabel('Number of users')\n",
    "plt.show()"
   ]
  },
  {
   "cell_type": "markdown",
   "metadata": {},
   "source": [
    "As a conclusion, we see that clearly the number of reviews has an impact on the closeness since almost every user with a particularly high nuber of reviews is a superuser, but we also identified super users with way less reviews: these users are particularly interesting for Yelp as they could even easily improve their score by giving more reviews."
   ]
  },
  {
   "cell_type": "markdown",
   "metadata": {
    "collapsed": true
   },
   "source": [
    "## Discussion:"
   ]
  },
  {
   "cell_type": "markdown",
   "metadata": {},
   "source": [
    "As part of the project, based on the objectives identified at the beginning, sentimental analysis of reviews, generating weighted network and performing network analysis to provide a lead user experience could be achieved.\n",
    "\n",
    "There lies a scope to further analyse the network and the review comments to generate networks for different locations and then providing users with a comprehensive user experience based on the location a user may want to look for. Analysis could also be provided to the businesses on a comparison between the ratings they receive and the review and a list of users who are patrons of their business. This data could help businesses in providing special offers to these users and further building on the loyalty."
   ]
  }
 ],
 "metadata": {
  "anaconda-cloud": {},
  "kernelspec": {
   "display_name": "Python 2",
   "language": "python",
   "name": "python2"
  },
  "language_info": {
   "codemirror_mode": {
    "name": "ipython",
    "version": 2
   },
   "file_extension": ".py",
   "mimetype": "text/x-python",
   "name": "python",
   "nbconvert_exporter": "python",
   "pygments_lexer": "ipython2",
   "version": "2.7.12"
  }
 },
 "nbformat": 4,
 "nbformat_minor": 0
}
